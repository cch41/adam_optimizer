{
 "cells": [
  {
   "cell_type": "code",
   "execution_count": null,
   "metadata": {},
   "outputs": [],
   "source": [
    "import numpy as np\n",
    "\n",
    "def objective(x, y):\n",
    "    return x**2.0 + y**2.0\n",
    "\n",
    "# range for input\n",
    "r_min, r_max = -1.0, 1.0\n",
    "\n",
    "# sample the input range uniformly in increments of 0.1\n",
    "x_axis = y_axis = np.arange(r_min, r_max, 0.1)\n",
    "\n",
    "# create a mesh from the axis\n",
    "x, y = np.meshgrid(x_axis, y_axis)\n",
    "\n",
    "# compute targets\n",
    "results = objective(x, y)\n",
    "\n",
    "# 'twilight' color for the plot\n",
    "# create a surface plot with \n",
    "print(x)\n",
    "\n"
   ]
  }
 ],
 "metadata": {
  "kernelspec": {
   "display_name": "Python 3.9.13 64-bit",
   "language": "python",
   "name": "python3"
  },
  "language_info": {
   "name": "python",
   "version": "3.9.13"
  },
  "orig_nbformat": 4,
  "vscode": {
   "interpreter": {
    "hash": "b0fa6594d8f4cbf19f97940f81e996739fb7646882a419484c72d19e05852a7e"
   }
  }
 },
 "nbformat": 4,
 "nbformat_minor": 2
}
